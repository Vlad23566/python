{
 "cells": [
  {
   "cell_type": "code",
   "execution_count": 1,
   "metadata": {},
   "outputs": [
    {
     "name": "stdout",
     "output_type": "stream",
     "text": [
      "[-99, -34, 39, -76]\n",
      "[-99, -76, -34, 39]\n"
     ]
    }
   ],
   "source": [
    "import random\n",
    "items=[]\n",
    "n=input()\n",
    "x=int(n)\n",
    "for i in range (x):\n",
    "        items.append(random.randint(-100,100))\n",
    "print (items)       \n",
    "for i in range(x):\n",
    "        minimum = i\n",
    "        for j in range(i + 1, x):\n",
    "            if items[j] < items[minimum]:\n",
    "                minimum = j\n",
    "        items[minimum], items[i] = items[i],items[minimum]\n",
    "            \n",
    "print (items)"
   ]
  }
 ],
 "metadata": {
  "kernelspec": {
   "display_name": "Python 3.10.7 64-bit",
   "language": "python",
   "name": "python3"
  },
  "language_info": {
   "codemirror_mode": {
    "name": "ipython",
    "version": 3
   },
   "file_extension": ".py",
   "mimetype": "text/x-python",
   "name": "python",
   "nbconvert_exporter": "python",
   "pygments_lexer": "ipython3",
   "version": "3.10.7"
  },
  "orig_nbformat": 4,
  "vscode": {
   "interpreter": {
    "hash": "e378785c38b6fec6eda5e8cd78bbf71898b90bbb9bfabcd0686614b97fc4e480"
   }
  }
 },
 "nbformat": 4,
 "nbformat_minor": 2
}
