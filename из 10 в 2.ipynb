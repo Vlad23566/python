{
 "cells": [
  {
   "cell_type": "code",
   "execution_count": 9,
   "metadata": {},
   "outputs": [
    {
     "name": "stdout",
     "output_type": "stream",
     "text": [
      "10001None\n"
     ]
    }
   ],
   "source": [
    "n=int(input())\n",
    "def des(n):\n",
    "    if n==0 :return\n",
    "    des(n//2)\n",
    "    print (n%2, end=\"\")\n",
    "print(des(n))"
   ]
  }
 ],
 "metadata": {
  "kernelspec": {
   "display_name": "Python 3.10.7 64-bit",
   "language": "python",
   "name": "python3"
  },
  "language_info": {
   "codemirror_mode": {
    "name": "ipython",
    "version": 3
   },
   "file_extension": ".py",
   "mimetype": "text/x-python",
   "name": "python",
   "nbconvert_exporter": "python",
   "pygments_lexer": "ipython3",
   "version": "3.10.7"
  },
  "orig_nbformat": 4,
  "vscode": {
   "interpreter": {
    "hash": "e378785c38b6fec6eda5e8cd78bbf71898b90bbb9bfabcd0686614b97fc4e480"
   }
  }
 },
 "nbformat": 4,
 "nbformat_minor": 2
}
