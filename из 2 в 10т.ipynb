{
 "cells": [
  {
   "cell_type": "code",
   "execution_count": 3,
   "metadata": {},
   "outputs": [
    {
     "name": "stdout",
     "output_type": "stream",
     "text": [
      "5\n",
      "Двоичное целое число 10001 соответствует десятичному числу  17\n"
     ]
    }
   ],
   "source": [
    "def bin_to_dec(digit):      \n",
    "    dlina=len(digit)         \n",
    "    print (dlina)  \n",
    "    chislo_dec=0    \n",
    "    for i in range(0, dlina):    \n",
    "        chislo_dec=chislo_dec+int(digit[i])*(2**(dlina-i-1))    \n",
    "    return chislo_dec  \n",
    "a=input(\"Введите двоичное целое число =\") \n",
    "print(\"Двоичное целое число\",a,\"соответствует десятичному числу \", bin_to_dec(a))\n"
   ]
  }
 ],
 "metadata": {
  "kernelspec": {
   "display_name": "Python 3.10.7 64-bit",
   "language": "python",
   "name": "python3"
  },
  "language_info": {
   "codemirror_mode": {
    "name": "ipython",
    "version": 3
   },
   "file_extension": ".py",
   "mimetype": "text/x-python",
   "name": "python",
   "nbconvert_exporter": "python",
   "pygments_lexer": "ipython3",
   "version": "3.10.7"
  },
  "orig_nbformat": 4,
  "vscode": {
   "interpreter": {
    "hash": "e378785c38b6fec6eda5e8cd78bbf71898b90bbb9bfabcd0686614b97fc4e480"
   }
  }
 },
 "nbformat": 4,
 "nbformat_minor": 2
}
