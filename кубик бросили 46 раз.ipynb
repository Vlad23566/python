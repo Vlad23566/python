{
 "cells": [
  {
   "cell_type": "code",
   "execution_count": 8,
   "metadata": {},
   "outputs": [
    {
     "name": "stdout",
     "output_type": "stream",
     "text": [
      "[3, 3, 6, 2, 2, 5, 3, 6, 2, 2, 2, 3, 6, 4, 2, 6, 4, 3, 1, 4, 3, 6, 4, 4, 4, 4, 2, 5, 2, 3, 3, 4, 2, 5, 6, 3, 1, 5, 6, 1, 5, 1, 2, 2, 4, 4]\n",
      "шестёрка выпала  7 раз\n",
      "пятерка  выпала  5 раз\n",
      "четвёрка выпала  10 раз\n",
      "тройка выпала  9 раз\n",
      "двойка выпала  11 раз\n",
      "один выпал  4 раз\n"
     ]
    }
   ],
   "source": [
    "import random\n",
    "items=[]\n",
    "x=int(46)\n",
    "a6=0\n",
    "a5=0\n",
    "a4=0\n",
    "a3=0\n",
    "a2=0\n",
    "a1=0\n",
    "for i in range (x):\n",
    "        items.append(random.randint(1,6))\n",
    "print (items)\n",
    "for i in range(x):\n",
    "    if items[i] //6 ==1 :\n",
    "        a6+=1\n",
    "    elif items[i]//5==1:\n",
    "        a5+=1\n",
    "    elif items[i]//4==1:\n",
    "        a4+=1\n",
    "    elif items[i]//3==1:\n",
    "        a3+=1\n",
    "    elif items[i]//2==1:\n",
    "        a2+=1\n",
    "    elif items [i]%1==0:\n",
    "        a1+=1\n",
    "print (\"шестёрка выпала \",a6,\"раз\")\n",
    "print (\"пятерка  выпала \",a5,\"раз\")\n",
    "print (\"четвёрка выпала \",a4,\"раз\")\n",
    "print (\"тройка выпала \",a3,\"раз\")\n",
    "print (\"двойка выпала \",a2,\"раз\")\n",
    "print (\"один выпал \",a1,\"раз\")"
   ]
  }
 ],
 "metadata": {
  "kernelspec": {
   "display_name": "Python 3.10.7 64-bit",
   "language": "python",
   "name": "python3"
  },
  "language_info": {
   "codemirror_mode": {
    "name": "ipython",
    "version": 3
   },
   "file_extension": ".py",
   "mimetype": "text/x-python",
   "name": "python",
   "nbconvert_exporter": "python",
   "pygments_lexer": "ipython3",
   "version": "3.10.7"
  },
  "orig_nbformat": 4,
  "vscode": {
   "interpreter": {
    "hash": "e378785c38b6fec6eda5e8cd78bbf71898b90bbb9bfabcd0686614b97fc4e480"
   }
  }
 },
 "nbformat": 4,
 "nbformat_minor": 2
}
