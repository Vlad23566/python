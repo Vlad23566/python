{
 "cells": [
  {
   "cell_type": "code",
   "execution_count": 48,
   "metadata": {},
   "outputs": [
    {
     "name": "stdout",
     "output_type": "stream",
     "text": [
      "в диапазоне от 1 до 1000 простых числе  168\n",
      "в диапазоне от 1001 до 2000 простых числе  135\n",
      "в диапазоне от 2001 до 3000 простых числе  127\n",
      "в диапазоне от 3001 до 4000 простых числе  120\n",
      "в диапазоне от 4001 до 5000 простых числе  119\n",
      "в диапазоне от 5001 до 6000 простых числе  114\n",
      "в диапазоне от 6001 до 7000 простых числе  117\n",
      "в диапазоне от 7001 до 8000 простых числе  107\n",
      "в диапазоне от 8001 до 9000простых числе  110\n",
      "в диапазоне от 9001 до 10000 простых числе  112\n",
      "1229\n"
     ]
    }
   ],
   "source": [
    "x=0;\n",
    "n=10000\n",
    "for i in range (2,n+1):\n",
    "    k=0\n",
    "    for j in range (1,i+1):\n",
    "        if i%j==0:\n",
    "            k+=1\n",
    "    if k==2:\n",
    "        x+=1\n",
    "    if i==1000:\n",
    "                print(\"в диапазоне от 1 до 1000 простых числе \",x)\n",
    "                a=x\n",
    "    if i==2000:\n",
    "                 print(\"в диапазоне от 1001 до 2000 простых числе \",x-a)\n",
    "                 b=x\n",
    "    if i==3000: \n",
    "                print ('в диапазоне от 2001 до 3000 простых числе ',x-b)\n",
    "                c=x\n",
    "    if i==4000:\n",
    "                print('в диапазоне от 3001 до 4000 простых числе ',x-c)\n",
    "                d=x\n",
    "    if i==5000: \n",
    "                print ('в диапазоне от 4001 до 5000 простых числе ',x-d)\n",
    "                e=x\n",
    "    if i==6000: \n",
    "                print ('в диапазоне от 5001 до 6000 простых числе ',x-e)\n",
    "                f=x\n",
    "    if i==7000: \n",
    "                print ('в диапазоне от 6001 до 7000 простых числе ',x-f)\n",
    "                g=x\n",
    "    if i==8000: \n",
    "                print ('в диапазоне от 7001 до 8000 простых числе ',x-g)\n",
    "                s=x\n",
    "    if i==9000: \n",
    "                print ('в диапазоне от 8001 до 9000простых числе ',x-s)\n",
    "                o=x\n",
    "    if i==10000: \n",
    "                print ('в диапазоне от 9001 до 10000 простых числе ',x-o)\n",
    "\n",
    "print (x)\n",
    "       "
   ]
  }
 ],
 "metadata": {
  "kernelspec": {
   "display_name": "Python 3.10.7 64-bit",
   "language": "python",
   "name": "python3"
  },
  "language_info": {
   "codemirror_mode": {
    "name": "ipython",
    "version": 3
   },
   "file_extension": ".py",
   "mimetype": "text/x-python",
   "name": "python",
   "nbconvert_exporter": "python",
   "pygments_lexer": "ipython3",
   "version": "3.10.7"
  },
  "orig_nbformat": 4,
  "vscode": {
   "interpreter": {
    "hash": "e378785c38b6fec6eda5e8cd78bbf71898b90bbb9bfabcd0686614b97fc4e480"
   }
  }
 },
 "nbformat": 4,
 "nbformat_minor": 2
}
