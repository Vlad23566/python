{
 "cells": [
  {
   "cell_type": "code",
   "execution_count": 2,
   "metadata": {},
   "outputs": [
    {
     "name": "stdout",
     "output_type": "stream",
     "text": [
      "[-26, 98, 10, -57, 44, -46, -94]\n",
      "[-94, -57, -46, -26, 10, 44, 98]\n"
     ]
    }
   ],
   "source": [
    "import random\n",
    "items=[]\n",
    "n=input()\n",
    "x=int(n)\n",
    "for i in range (x):\n",
    "        items.append(random.randint(-100,100))\n",
    "print (items)\n",
    "for i in range (x):\n",
    "    for j in range (x-1):\n",
    "            if items[j] >items[j+1] : \n",
    "                items[j],items[j+1]=items[j+1],items[j]\n",
    "   \n",
    "print (items)"
   ]
  }
 ],
 "metadata": {
  "kernelspec": {
   "display_name": "Python 3.10.7 64-bit",
   "language": "python",
   "name": "python3"
  },
  "language_info": {
   "codemirror_mode": {
    "name": "ipython",
    "version": 3
   },
   "file_extension": ".py",
   "mimetype": "text/x-python",
   "name": "python",
   "nbconvert_exporter": "python",
   "pygments_lexer": "ipython3",
   "version": "3.10.7"
  },
  "orig_nbformat": 4,
  "vscode": {
   "interpreter": {
    "hash": "e378785c38b6fec6eda5e8cd78bbf71898b90bbb9bfabcd0686614b97fc4e480"
   }
  }
 },
 "nbformat": 4,
 "nbformat_minor": 2
}
